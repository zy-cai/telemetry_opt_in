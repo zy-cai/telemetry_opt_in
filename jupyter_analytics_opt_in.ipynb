{
 "cells": [
  {
   "cell_type": "markdown",
   "id": "16c353f4-275d-4ba1-b790-53ffcb34bbca",
   "metadata": {},
   "source": [
    "## [Jupyter Analytics] Data Collection to Support TAs in Exercise Sessions"
   ]
  },
  {
   "cell_type": "code",
   "execution_count": 1,
   "id": "ee1aae33-7b0b-4c98-8eb4-2e21b8e1944e",
   "metadata": {
    "execution": {
     "iopub.execute_input": "2024-09-09T14:20:54.413832Z",
     "iopub.status.busy": "2024-09-09T14:20:54.413004Z",
     "iopub.status.idle": "2024-09-09T14:20:54.428745Z",
     "shell.execute_reply": "2024-09-09T14:20:54.425317Z",
     "shell.execute_reply.started": "2024-09-09T14:20:54.413760Z"
    }
   },
   "outputs": [
    {
     "name": "stdout",
     "output_type": "stream",
     "text": [
      "This is the notebook created for you to opt in. Thank you very much!\n"
     ]
    }
   ],
   "source": [
    "print(\"This is the notebook created for you to opt in. Thank you very much!\")"
   ]
  }
 ],
 "metadata": {
  "kernelspec": {
   "display_name": "Python3",
   "language": "python",
   "name": "python3"
  },
  "language_info": {
   "codemirror_mode": {
    "name": "ipython",
    "version": 3
   },
   "file_extension": ".py",
   "mimetype": "text/x-python",
   "name": "python",
   "nbconvert_exporter": "python",
   "pygments_lexer": "ipython3",
   "version": "3.12.5"
  },
  "unianalytics_cell_mapping": [
   [
    "16c353f4-275d-4ba1-b790-53ffcb34bbca",
    "16c353f4-275d-4ba1-b790-53ffcb34bbca"
   ],
   [
    "ee1aae33-7b0b-4c98-8eb4-2e21b8e1944e",
    "ee1aae33-7b0b-4c98-8eb4-2e21b8e1944e"
   ]
  ],
  "unianalytics_notebook_id": "f0fc1cf9-148f-46db-8c28-8893c493807e"
 },
 "nbformat": 4,
 "nbformat_minor": 5
}
